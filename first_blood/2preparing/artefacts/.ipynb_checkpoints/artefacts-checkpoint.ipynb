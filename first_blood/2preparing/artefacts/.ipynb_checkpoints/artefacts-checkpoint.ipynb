{
 "cells": [
  {
   "cell_type": "code",
   "execution_count": 1,
   "metadata": {},
   "outputs": [],
   "source": [
    "import seaborn as sns\n",
    "import pandas as pd\n",
    "import os\n",
    "import numpy as np\n",
    "path = 'C:/Users/Дима/jupyter/ЦИАН/first_blood/2preparing/'\n",
    "\n",
    "df = pd.read_csv(path+'cian_data.csv', sep = '\\t')"
   ]
  },
  {
   "cell_type": "markdown",
   "metadata": {},
   "source": [
    "Ищем артефакты пока что в самих данных"
   ]
  },
  {
   "cell_type": "code",
   "execution_count": 3,
   "metadata": {},
   "outputs": [],
   "source": [
    "target = ['цена']\n",
    "\n",
    "text_data = ['адрес','метро', 'тайтл', 'stations_auto',\n",
    "            'stations_walk', 'описание']\n",
    "\n",
    "#Обработать\n",
    "strange_val = ['Площадь комнат','lat', 'long','href'\n",
    "               'срок сдачи']\n",
    "\n",
    "time_val = ['Построен','Год постройки', 'Срок сдачи', 'год сдачи',\n",
    "           'квартал']\n",
    "\n",
    "cont_var = ['Общая', 'Жилая', 'Кухня','metro_walk_min','metro_auto_min',\n",
    "           'возраст']\n",
    "\n",
    "var_cat = ['Тип жилья', 'Ремонт',\n",
    "'Вид из окон', 'Тип дома', 'Тип перекрытий',\n",
    "'Отопление', 'Парковка', 'Мусоропровод',\n",
    "'Высота потолков', 'Планировка', 'Газоснабжение',\n",
    "'Отделка', 'балконы',   'лоджии',\n",
    "'санузлы_раздельные', 'санузлы_совместные', 'лифты_пас',\n",
    "'лифты_гр', 'Тип_квартиры', 'Этажность','Этаж', 'первый_этаж', 'последний_этаж', \n",
    "'Подъезды'] "
   ]
  },
  {
   "cell_type": "markdown",
   "metadata": {},
   "source": [
    "1. Большие туалеты\n",
    "\n",
    "Есть квартиры, где помимо жилого помещения и кухни есть огромные участки непонятного назначения"
   ]
  },
  {
   "cell_type": "code",
   "execution_count": 41,
   "metadata": {},
   "outputs": [
    {
     "data": {
      "text/plain": [
       "35       https://www.cian.ru/sale/flat/224644506/\n",
       "279      https://www.cian.ru/sale/flat/198784510/\n",
       "313      https://www.cian.ru/sale/flat/219718800/\n",
       "639      https://www.cian.ru/sale/flat/226781990/\n",
       "743      https://www.cian.ru/sale/flat/227541038/\n",
       "                           ...                   \n",
       "34044    https://www.cian.ru/sale/flat/201468804/\n",
       "34368     https://www.cian.ru/sale/flat/45026735/\n",
       "34598    https://www.cian.ru/sale/flat/208261782/\n",
       "34729    https://www.cian.ru/sale/flat/227164030/\n",
       "35105    https://www.cian.ru/sale/flat/225350336/\n",
       "Name: href, Length: 136, dtype: object"
      ]
     },
     "execution_count": 41,
     "metadata": {},
     "output_type": "execute_result"
    }
   ],
   "source": [
    "df[(df['Общая'] - df['Жилая'] + df['Кухня'] ) > 200]['href']"
   ]
  },
  {
   "cell_type": "code",
   "execution_count": 4,
   "metadata": {},
   "outputs": [
    {
     "data": {
      "text/html": [
       "<div>\n",
       "<style scoped>\n",
       "    .dataframe tbody tr th:only-of-type {\n",
       "        vertical-align: middle;\n",
       "    }\n",
       "\n",
       "    .dataframe tbody tr th {\n",
       "        vertical-align: top;\n",
       "    }\n",
       "\n",
       "    .dataframe thead th {\n",
       "        text-align: right;\n",
       "    }\n",
       "</style>\n",
       "<table border=\"1\" class=\"dataframe\">\n",
       "  <thead>\n",
       "    <tr style=\"text-align: right;\">\n",
       "      <th></th>\n",
       "      <th>href</th>\n",
       "      <th>санузлы_раздельные</th>\n",
       "      <th>санузлы_совместные</th>\n",
       "    </tr>\n",
       "  </thead>\n",
       "  <tbody>\n",
       "    <tr>\n",
       "      <td>35</td>\n",
       "      <td>https://www.cian.ru/sale/flat/224644506/</td>\n",
       "      <td>NaN</td>\n",
       "      <td>3</td>\n",
       "    </tr>\n",
       "    <tr>\n",
       "      <td>279</td>\n",
       "      <td>https://www.cian.ru/sale/flat/198784510/</td>\n",
       "      <td>1</td>\n",
       "      <td>другое</td>\n",
       "    </tr>\n",
       "    <tr>\n",
       "      <td>313</td>\n",
       "      <td>https://www.cian.ru/sale/flat/219718800/</td>\n",
       "      <td>другое</td>\n",
       "      <td>NaN</td>\n",
       "    </tr>\n",
       "    <tr>\n",
       "      <td>639</td>\n",
       "      <td>https://www.cian.ru/sale/flat/226781990/</td>\n",
       "      <td>NaN</td>\n",
       "      <td>NaN</td>\n",
       "    </tr>\n",
       "    <tr>\n",
       "      <td>743</td>\n",
       "      <td>https://www.cian.ru/sale/flat/227541038/</td>\n",
       "      <td>1</td>\n",
       "      <td>NaN</td>\n",
       "    </tr>\n",
       "    <tr>\n",
       "      <td>...</td>\n",
       "      <td>...</td>\n",
       "      <td>...</td>\n",
       "      <td>...</td>\n",
       "    </tr>\n",
       "    <tr>\n",
       "      <td>34044</td>\n",
       "      <td>https://www.cian.ru/sale/flat/201468804/</td>\n",
       "      <td>NaN</td>\n",
       "      <td>другое</td>\n",
       "    </tr>\n",
       "    <tr>\n",
       "      <td>34368</td>\n",
       "      <td>https://www.cian.ru/sale/flat/45026735/</td>\n",
       "      <td>1</td>\n",
       "      <td>2</td>\n",
       "    </tr>\n",
       "    <tr>\n",
       "      <td>34598</td>\n",
       "      <td>https://www.cian.ru/sale/flat/208261782/</td>\n",
       "      <td>другое</td>\n",
       "      <td>NaN</td>\n",
       "    </tr>\n",
       "    <tr>\n",
       "      <td>34729</td>\n",
       "      <td>https://www.cian.ru/sale/flat/227164030/</td>\n",
       "      <td>2</td>\n",
       "      <td>NaN</td>\n",
       "    </tr>\n",
       "    <tr>\n",
       "      <td>35105</td>\n",
       "      <td>https://www.cian.ru/sale/flat/225350336/</td>\n",
       "      <td>NaN</td>\n",
       "      <td>другое</td>\n",
       "    </tr>\n",
       "  </tbody>\n",
       "</table>\n",
       "<p>136 rows × 3 columns</p>\n",
       "</div>"
      ],
      "text/plain": [
       "                                           href санузлы_раздельные  \\\n",
       "35     https://www.cian.ru/sale/flat/224644506/                NaN   \n",
       "279    https://www.cian.ru/sale/flat/198784510/                  1   \n",
       "313    https://www.cian.ru/sale/flat/219718800/             другое   \n",
       "639    https://www.cian.ru/sale/flat/226781990/                NaN   \n",
       "743    https://www.cian.ru/sale/flat/227541038/                  1   \n",
       "...                                         ...                ...   \n",
       "34044  https://www.cian.ru/sale/flat/201468804/                NaN   \n",
       "34368   https://www.cian.ru/sale/flat/45026735/                  1   \n",
       "34598  https://www.cian.ru/sale/flat/208261782/             другое   \n",
       "34729  https://www.cian.ru/sale/flat/227164030/                  2   \n",
       "35105  https://www.cian.ru/sale/flat/225350336/                NaN   \n",
       "\n",
       "      санузлы_совместные  \n",
       "35                     3  \n",
       "279               другое  \n",
       "313                  NaN  \n",
       "639                  NaN  \n",
       "743                  NaN  \n",
       "...                  ...  \n",
       "34044             другое  \n",
       "34368                  2  \n",
       "34598                NaN  \n",
       "34729                NaN  \n",
       "35105             другое  \n",
       "\n",
       "[136 rows x 3 columns]"
      ]
     },
     "execution_count": 4,
     "metadata": {},
     "output_type": "execute_result"
    }
   ],
   "source": [
    "df[(df['Общая'] - df['Жилая'] + df['Кухня'] ) > 200][['href','санузлы_раздельные', 'санузлы_совместные']]"
   ]
  },
  {
   "cell_type": "markdown",
   "metadata": {},
   "source": [
    "2. С возрастом некоторых домов явно что-то не так...."
   ]
  },
  {
   "cell_type": "code",
   "execution_count": 21,
   "metadata": {},
   "outputs": [
    {
     "data": {
      "text/plain": [
       "6838     https://www.cian.ru/sale/flat/227656851/\n",
       "13421     https://www.cian.ru/sale/flat/42783636/\n",
       "14201    https://www.cian.ru/sale/flat/214766424/\n",
       "19381    https://www.cian.ru/sale/flat/164714483/\n",
       "20485    https://www.cian.ru/sale/flat/224338691/\n",
       "29231    https://www.cian.ru/sale/flat/227085964/\n",
       "29672    https://www.cian.ru/sale/flat/226232329/\n",
       "30904    https://www.cian.ru/sale/flat/225249834/\n",
       "Name: href, dtype: object"
      ]
     },
     "execution_count": 21,
     "metadata": {},
     "output_type": "execute_result"
    }
   ],
   "source": [
    "df[df['Год постройки'] < 1600]['href']"
   ]
  },
  {
   "cell_type": "markdown",
   "metadata": {},
   "source": []
  },
  {
   "cell_type": "code",
   "execution_count": null,
   "metadata": {},
   "outputs": [],
   "source": []
  },
  {
   "cell_type": "code",
   "execution_count": null,
   "metadata": {},
   "outputs": [],
   "source": []
  },
  {
   "cell_type": "code",
   "execution_count": null,
   "metadata": {},
   "outputs": [],
   "source": []
  },
  {
   "cell_type": "code",
   "execution_count": null,
   "metadata": {},
   "outputs": [],
   "source": []
  },
  {
   "cell_type": "code",
   "execution_count": null,
   "metadata": {},
   "outputs": [],
   "source": []
  },
  {
   "cell_type": "code",
   "execution_count": null,
   "metadata": {},
   "outputs": [],
   "source": []
  },
  {
   "cell_type": "code",
   "execution_count": null,
   "metadata": {},
   "outputs": [],
   "source": []
  }
 ],
 "metadata": {
  "kernelspec": {
   "display_name": "Python 3",
   "language": "python",
   "name": "python3"
  },
  "language_info": {
   "codemirror_mode": {
    "name": "ipython",
    "version": 3
   },
   "file_extension": ".py",
   "mimetype": "text/x-python",
   "name": "python",
   "nbconvert_exporter": "python",
   "pygments_lexer": "ipython3",
   "version": "3.7.4"
  }
 },
 "nbformat": 4,
 "nbformat_minor": 2
}
