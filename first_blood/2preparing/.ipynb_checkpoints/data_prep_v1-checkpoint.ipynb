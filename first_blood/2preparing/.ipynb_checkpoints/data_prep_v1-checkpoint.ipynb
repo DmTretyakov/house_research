{
 "cells": [
  {
   "cell_type": "markdown",
   "metadata": {},
   "source": [
    "# Подгрузка"
   ]
  },
  {
   "cell_type": "code",
   "execution_count": 1,
   "metadata": {},
   "outputs": [
    {
     "data": {
      "text/plain": [
       "['info_0_10000.pickle',\n",
       " 'info_10001_10096.pickle',\n",
       " 'info_10096_11657.pickle',\n",
       " 'info_11657_11900.pickle',\n",
       " 'info_11900_11959.pickle',\n",
       " 'info_11959_12645.pickle',\n",
       " 'info_12646_12796.pickle',\n",
       " 'info_12797_13564.pickle',\n",
       " 'info_13565_14017.pickle',\n",
       " 'info_14018_15071.pickle',\n",
       " 'info_15072_17924.pickle',\n",
       " 'info_17925_18898.pickle',\n",
       " 'info_18899_19416.pickle',\n",
       " 'info_19417_19755.pickle',\n",
       " 'info_19756_21105.pickle',\n",
       " 'info_25000_25664.pickle',\n",
       " 'info_25664_26397.pickle',\n",
       " 'info_26397_26496.pickle',\n",
       " 'info_26496_26556.pickle',\n",
       " 'info_26556_26624.pickle',\n",
       " 'info_26624_26768.pickle',\n",
       " 'info_26768_26836.pickle',\n",
       " 'info_26836_26916.pickle',\n",
       " 'info_26917_26961.pickle',\n",
       " 'info_26961_27020.pickle',\n",
       " 'info_27020_27183.pickle',\n",
       " 'info_27183_27714.pickle',\n",
       " 'info_27714_27894.pickle',\n",
       " 'info_27894_28019.pickle',\n",
       " 'info_28019_28269.pickle',\n",
       " 'info_28269_28361.pickle',\n",
       " 'info_28361_28587.pickle',\n",
       " 'info_28587_28640.pickle',\n",
       " 'info_28640_29001.pickle',\n",
       " 'info_29001_29129.pickle',\n",
       " 'info_29129_29188.pickle',\n",
       " 'info_29188_29291.pickle',\n",
       " 'info_29291_29713.pickle',\n",
       " 'info_29713_29848.pickle',\n",
       " 'info_29848_30000.pickle',\n",
       " 'info_30000_40000.pickle',\n",
       " 'info_40000_45000.pickle',\n",
       " 'info_45000_50000.pickle',\n",
       " 'info_50000_55000.pickle',\n",
       " 'info_60000_70000.pickle',\n",
       " 'info_70000.pickle']"
      ]
     },
     "execution_count": 1,
     "metadata": {},
     "output_type": "execute_result"
    }
   ],
   "source": [
    "import pickle\n",
    "import os\n",
    "\n",
    "path_to_directory = 'data/'\n",
    "files =  os.listdir(path_to_directory)\n",
    "\n",
    "files = [item for item in files if '.pickle' in item]\n",
    "files"
   ]
  },
  {
   "cell_type": "code",
   "execution_count": 2,
   "metadata": {},
   "outputs": [],
   "source": [
    "data_real = [ ]\n",
    "\n",
    "for file in files:\n",
    "    with open('data/' + file, 'rb') as f:\n",
    "        data_new = pickle.load(f)\n",
    "        data_real.extend(data_new)"
   ]
  },
  {
   "cell_type": "markdown",
   "metadata": {},
   "source": [
    "# Предобработка данных"
   ]
  },
  {
   "cell_type": "code",
   "execution_count": 3,
   "metadata": {},
   "outputs": [
    {
     "data": {
      "text/plain": [
       "(35109, 40)"
      ]
     },
     "execution_count": 3,
     "metadata": {},
     "output_type": "execute_result"
    }
   ],
   "source": [
    "import pandas as pd\n",
    "df = pd.DataFrame(data_real)\n",
    "\n",
    "df = df.drop_duplicates(subset=['href'])\n",
    "df.shape"
   ]
  },
  {
   "cell_type": "code",
   "execution_count": 4,
   "metadata": {},
   "outputs": [
    {
     "data": {
      "text/html": [
       "<div>\n",
       "<style scoped>\n",
       "    .dataframe tbody tr th:only-of-type {\n",
       "        vertical-align: middle;\n",
       "    }\n",
       "\n",
       "    .dataframe tbody tr th {\n",
       "        vertical-align: top;\n",
       "    }\n",
       "\n",
       "    .dataframe thead th {\n",
       "        text-align: right;\n",
       "    }\n",
       "</style>\n",
       "<table border=\"1\" class=\"dataframe\">\n",
       "  <thead>\n",
       "    <tr style=\"text-align: right;\">\n",
       "      <th></th>\n",
       "      <th>Тип жилья</th>\n",
       "      <th>Площадь комнат</th>\n",
       "      <th>Санузел</th>\n",
       "      <th>Балкон/лоджия</th>\n",
       "      <th>Ремонт</th>\n",
       "      <th>Вид из окон</th>\n",
       "      <th>Год постройки</th>\n",
       "      <th>Тип дома</th>\n",
       "      <th>Тип перекрытий</th>\n",
       "      <th>Подъезды</th>\n",
       "      <th>...</th>\n",
       "      <th>Планировка</th>\n",
       "      <th>Газоснабжение</th>\n",
       "      <th>Строительная серия</th>\n",
       "      <th>Отделка</th>\n",
       "      <th>Срок сдачи</th>\n",
       "      <th>Комнат в продажу</th>\n",
       "      <th>Всего комнат в квартире</th>\n",
       "      <th>Площадь комнаты</th>\n",
       "      <th>Комната</th>\n",
       "      <th>Размер доли</th>\n",
       "    </tr>\n",
       "  </thead>\n",
       "  <tbody>\n",
       "    <tr>\n",
       "      <td>0</td>\n",
       "      <td>Вторичка</td>\n",
       "      <td>21-14-11 м²</td>\n",
       "      <td>1 раздельный</td>\n",
       "      <td>1 лоджия</td>\n",
       "      <td>Евроремонт</td>\n",
       "      <td>Во двор</td>\n",
       "      <td>2002</td>\n",
       "      <td>Монолитный</td>\n",
       "      <td>Железобетонные</td>\n",
       "      <td>5</td>\n",
       "      <td>...</td>\n",
       "      <td>NaN</td>\n",
       "      <td>NaN</td>\n",
       "      <td>NaN</td>\n",
       "      <td>NaN</td>\n",
       "      <td>NaN</td>\n",
       "      <td>NaN</td>\n",
       "      <td>NaN</td>\n",
       "      <td>NaN</td>\n",
       "      <td>NaN</td>\n",
       "      <td>NaN</td>\n",
       "    </tr>\n",
       "    <tr>\n",
       "      <td>1</td>\n",
       "      <td>Вторичка</td>\n",
       "      <td>NaN</td>\n",
       "      <td>2 совмещенных</td>\n",
       "      <td>1 балкон</td>\n",
       "      <td>Без ремонта</td>\n",
       "      <td>NaN</td>\n",
       "      <td>2017</td>\n",
       "      <td>Монолитный</td>\n",
       "      <td>Железобетонные</td>\n",
       "      <td>2</td>\n",
       "      <td>...</td>\n",
       "      <td>NaN</td>\n",
       "      <td>NaN</td>\n",
       "      <td>NaN</td>\n",
       "      <td>NaN</td>\n",
       "      <td>NaN</td>\n",
       "      <td>NaN</td>\n",
       "      <td>NaN</td>\n",
       "      <td>NaN</td>\n",
       "      <td>NaN</td>\n",
       "      <td>NaN</td>\n",
       "    </tr>\n",
       "  </tbody>\n",
       "</table>\n",
       "<p>2 rows × 40 columns</p>\n",
       "</div>"
      ],
      "text/plain": [
       "  Тип жилья Площадь комнат        Санузел Балкон/лоджия       Ремонт  \\\n",
       "0  Вторичка    21-14-11 м²   1 раздельный      1 лоджия   Евроремонт   \n",
       "1  Вторичка            NaN  2 совмещенных      1 балкон  Без ремонта   \n",
       "\n",
       "  Вид из окон Год постройки    Тип дома  Тип перекрытий Подъезды  ...  \\\n",
       "0     Во двор          2002  Монолитный  Железобетонные        5  ...   \n",
       "1         NaN          2017  Монолитный  Железобетонные        2  ...   \n",
       "\n",
       "  Планировка Газоснабжение Строительная серия Отделка Срок сдачи  \\\n",
       "0        NaN           NaN                NaN     NaN        NaN   \n",
       "1        NaN           NaN                NaN     NaN        NaN   \n",
       "\n",
       "   Комнат в продажу Всего комнат в квартире Площадь комнаты Комната  \\\n",
       "0               NaN                     NaN             NaN     NaN   \n",
       "1               NaN                     NaN             NaN     NaN   \n",
       "\n",
       "  Размер доли  \n",
       "0         NaN  \n",
       "1         NaN  \n",
       "\n",
       "[2 rows x 40 columns]"
      ]
     },
     "execution_count": 4,
     "metadata": {},
     "output_type": "execute_result"
    }
   ],
   "source": [
    "df.head(2) #.tail()"
   ]
  },
  {
   "cell_type": "code",
   "execution_count": 5,
   "metadata": {},
   "outputs": [
    {
     "name": "stdout",
     "output_type": "stream",
     "text": [
      "<class 'pandas.core.frame.DataFrame'>\n",
      "Int64Index: 35109 entries, 0 to 56075\n",
      "Data columns (total 40 columns):\n",
      "Тип жилья                  35109 non-null object\n",
      "Площадь комнат             22946 non-null object\n",
      "Санузел                    30941 non-null object\n",
      "Балкон/лоджия              20907 non-null object\n",
      "Ремонт                     25126 non-null object\n",
      "Вид из окон                25229 non-null object\n",
      "Год постройки              24376 non-null object\n",
      "Тип дома                   26045 non-null object\n",
      "Тип перекрытий             22140 non-null object\n",
      "Подъезды                   23503 non-null object\n",
      "Лифты                      34196 non-null object\n",
      "Отопление                  22521 non-null object\n",
      "Аварийность                24631 non-null object\n",
      "Парковка                   16778 non-null object\n",
      "Мусоропровод               15772 non-null object\n",
      "цена                       35109 non-null int64\n",
      "описание                   35109 non-null object\n",
      "Общая                      35108 non-null object\n",
      "Жилая                      28731 non-null object\n",
      "Кухня                      28285 non-null object\n",
      "Этаж                       35109 non-null object\n",
      "Построен                   18583 non-null object\n",
      "адрес                      35109 non-null object\n",
      "метро                      35109 non-null object\n",
      "тайтл                      35109 non-null object\n",
      "lat                        35109 non-null object\n",
      "long                       35109 non-null object\n",
      "комментарий                460 non-null object\n",
      "href                       35109 non-null object\n",
      "Высота потолков            18413 non-null object\n",
      "Планировка                 13363 non-null object\n",
      "Газоснабжение              7471 non-null object\n",
      "Строительная серия         8295 non-null object\n",
      "Отделка                    4283 non-null object\n",
      "Срок сдачи                 6488 non-null object\n",
      "Комнат в продажу           6 non-null object\n",
      "Всего комнат в квартире    1 non-null object\n",
      "Площадь комнаты            1 non-null object\n",
      "Комната                    1 non-null object\n",
      "Размер доли                1 non-null object\n",
      "dtypes: int64(1), object(39)\n",
      "memory usage: 11.0+ MB\n"
     ]
    }
   ],
   "source": [
    "df.info()"
   ]
  },
  {
   "cell_type": "code",
   "execution_count": 6,
   "metadata": {},
   "outputs": [
    {
     "data": {
      "text/plain": [
       "(35109, 40)"
      ]
     },
     "execution_count": 6,
     "metadata": {},
     "output_type": "execute_result"
    }
   ],
   "source": [
    "df.shape"
   ]
  },
  {
   "cell_type": "code",
   "execution_count": 7,
   "metadata": {},
   "outputs": [],
   "source": [
    "df['цена'].hist(bins=50);"
   ]
  },
  {
   "cell_type": "code",
   "execution_count": 8,
   "metadata": {},
   "outputs": [
    {
     "data": {
      "image/png": "[encoded data removed]",
      "text/plain": [
       "<Figure size 432x288 with 1 Axes>"
      ]
     },
     "metadata": {
      "needs_background": "light"
     },
     "output_type": "display_data"
    }
   ],
   "source": [
    "import numpy as np\n",
    "df['цена'].apply(lambda w: np.log(w)).hist(bins=100);"
   ]
  },
  {
   "cell_type": "markdown",
   "metadata": {},
   "source": [
    "# Предобработка данных"
   ]
  },
  {
   "cell_type": "code",
   "execution_count": 9,
   "metadata": {},
   "outputs": [],
   "source": [
    "import seaborn as sns\n",
    "import matplotlib.pyplot as plt\n",
    "\n",
    "plt.style.use('ggplot')\n",
    "%matplotlib inline"
   ]
  },
  {
   "cell_type": "code",
   "execution_count": 10,
   "metadata": {},
   "outputs": [
    {
     "data": {
      "text/plain": [
       "(35109, 40)"
      ]
     },
     "execution_count": 10,
     "metadata": {},
     "output_type": "execute_result"
    }
   ],
   "source": [
    "import pandas as pd\n",
    "df = pd.DataFrame(data_real)\n",
    "\n",
    "df = df.drop_duplicates(subset=['href'])\n",
    "df.reset_index(drop=True, inplace=True)\n",
    "\n",
    "df.shape"
   ]
  },
  {
   "cell_type": "code",
   "execution_count": 11,
   "metadata": {},
   "outputs": [
    {
     "name": "stderr",
     "output_type": "stream",
     "text": [
      "C:\\Users\\DIMA\\Anaconda3\\lib\\site-packages\\ipykernel_launcher.py:2: FutureWarning: `Series.plot()` should not be called with positional arguments, only keyword arguments. The order of positional arguments will change in the future. Use `Series.plot(kind='bar')` instead of `Series.plot('bar',)`.\n",
      "  \n"
     ]
    },
    {
     "data": {
      "image/png": "[encoded data removed]",
      "text/plain": [
       "<Figure size 1080x360 with 1 Axes>"
      ]
     },
     "metadata": {
      "needs_background": "light"
     },
     "output_type": "display_data"
    }
   ],
   "source": [
    "plt.figure(figsize=(15,5))\n",
    "(100*df.isnull().sum()/df.shape[0]).sort_values(ascending=False).plot('bar');"
   ]
  },
  {
   "cell_type": "markdown",
   "metadata": {},
   "source": [
    "Выкидываем неинформативные признаки"
   ]
  },
  {
   "cell_type": "code",
   "execution_count": 12,
   "metadata": {},
   "outputs": [],
   "source": [
    "df.drop(['Аварийность', 'Комнат в продажу', 'Размер доли', 'Комната', 'Площадь комнаты','комментарий', 'Всего комнат в квартире'], axis=1, inplace=True)\n",
    "\n",
    "# пока что выкинем их из рассмотрения, потом если чё вренём\n",
    "df.drop('Строительная серия', axis=1, inplace=True)"
   ]
  },
  {
   "cell_type": "code",
   "execution_count": 13,
   "metadata": {},
   "outputs": [
    {
     "name": "stderr",
     "output_type": "stream",
     "text": [
      "C:\\Users\\DIMA\\Anaconda3\\lib\\site-packages\\ipykernel_launcher.py:2: FutureWarning: `Series.plot()` should not be called with positional arguments, only keyword arguments. The order of positional arguments will change in the future. Use `Series.plot(kind='bar')` instead of `Series.plot('bar',)`.\n",
      "  \n"
     ]
    },
    {
     "data": {
      "image/png": "[encoded data removed]",
      "text/plain": [
       "<Figure size 1080x360 with 1 Axes>"
      ]
     },
     "metadata": {
      "needs_background": "light"
     },
     "output_type": "display_data"
    }
   ],
   "source": [
    "plt.figure(figsize=(15,5))\n",
    "(100*df.isnull().sum()/df.shape[0]).sort_values(ascending=False).plot('bar');"
   ]
  },
  {
   "cell_type": "markdown",
   "metadata": {},
   "source": [
    "1. Выделим начальные фичи"
   ]
  },
  {
   "cell_type": "code",
   "execution_count": 14,
   "metadata": {},
   "outputs": [],
   "source": [
    "var = list(df.columns) #певроначальные фичи, которые надо обработать"
   ]
  },
  {
   "cell_type": "markdown",
   "metadata": {},
   "source": [
    "'Тип жилья', 'Площадь комнат', \n",
    "'Ремонт', 'Вид из окон', 'Год постройки', 'Тип дома',\n",
    "'Тип перекрытий', 'Подъезды',  'Отопление', 'Парковка',\n",
    "'Мусоропровод', 'цена', 'описание', 'Общая', 'Жилая', 'Кухня',\n",
    "'Этаж', 'Построен', 'адрес', 'метро', 'тайтл', 'lat', 'long',\n",
    "'href', 'Высота потолков', 'Планировка', 'Газоснабжение',\n",
    "'Отделка', 'Срок сдачи'"
   ]
  },
  {
   "cell_type": "markdown",
   "metadata": {},
   "source": [
    "2. Категориальные переменные"
   ]
  },
  {
   "cell_type": "code",
   "execution_count": 15,
   "metadata": {},
   "outputs": [],
   "source": [
    "tradeoff = 0.02*df.shape[0]"
   ]
  },
  {
   "cell_type": "code",
   "execution_count": 16,
   "metadata": {},
   "outputs": [
    {
     "data": {
      "text/plain": [
       "'1'"
      ]
     },
     "execution_count": 16,
     "metadata": {},
     "output_type": "execute_result"
    }
   ],
   "source": [
    "import re\n",
    "\n",
    "def f_create(reg):\n",
    "    def f(w):\n",
    "        if w is np.nan:\n",
    "            return np.nan\n",
    "        else:\n",
    "            x = re.findall(reg, w)\n",
    "            if len(x) == 0:\n",
    "                return np.nan\n",
    "            else:\n",
    "                return str(x[0]) \n",
    "    return f\n",
    "\n",
    "# пример работы фабрики функций\n",
    "f = f_create('(\\d) л')\n",
    "f('1 балкон, 1 лоджия')"
   ]
  },
  {
   "cell_type": "code",
   "execution_count": 17,
   "metadata": {},
   "outputs": [],
   "source": [
    "df['балконы'] = df['Балкон/лоджия'].apply(f_create('(\\d) б'))\n",
    "df['лоджии'] = df['Балкон/лоджия'].apply(f_create('(\\d) л'))\n",
    "\n",
    "df['санузлы_раздельные'] = df['Санузел'].apply(f_create('(\\d) р'))\n",
    "df['санузлы_совместные'] = df['Санузел'].apply(f_create('(\\d) с'))\n",
    "\n",
    "df['лифты_пас'] = df['Лифты'].apply(f_create('(\\d) п'))\n",
    "df['лифты_гр'] = df['Лифты'].apply(f_create('(\\d) г'))\n",
    "\n",
    "# df[['Балкон/лоджия', 'балконы','лоджии']].sample(10)\n",
    "df.drop(['Балкон/лоджия', 'Санузел', 'Лифты'], axis=1, inplace=True)"
   ]
  },
  {
   "cell_type": "code",
   "execution_count": 18,
   "metadata": {},
   "outputs": [],
   "source": [
    "df['Тип_квартиры'] = df['тайтл'].apply(lambda w: w.split(' ')[0])"
   ]
  },
  {
   "cell_type": "code",
   "execution_count": 19,
   "metadata": {},
   "outputs": [
    {
     "data": {
      "text/plain": [
       "0        3-комн.\n",
       "1        2-комн.\n",
       "2        5-комн.\n",
       "3        3-комн.\n",
       "4        3-комн.\n",
       "          ...   \n",
       "35104    2-комн.\n",
       "35105    5-комн.\n",
       "35106    2-комн.\n",
       "35107    2-комн.\n",
       "35108    1-комн.\n",
       "Name: Тип_квартиры, Length: 35109, dtype: object"
      ]
     },
     "execution_count": 19,
     "metadata": {},
     "output_type": "execute_result"
    }
   ],
   "source": [
    "df['Тип_квартиры']"
   ]
  },
  {
   "cell_type": "markdown",
   "metadata": {},
   "source": [
    "3. Непрерывные переменные"
   ]
  },
  {
   "cell_type": "code",
   "execution_count": 20,
   "metadata": {},
   "outputs": [],
   "source": [
    "def ceil(w):\n",
    "    if w is np.nan:\n",
    "        return np.nan\n",
    "    else:\n",
    "        y = float(re.sub('[, ]', '.', w)[:-2])\n",
    "        if y > 10 and y < 100:\n",
    "            return y / 10\n",
    "        elif y >= 100:\n",
    "            return y/100\n",
    "        elif y < 2:\n",
    "            return np.nan\n",
    "        else:\n",
    "            return y\n",
    "    \n",
    "df['Высота потолков'] = df['Высота потолков'].apply(ceil)"
   ]
  },
  {
   "cell_type": "code",
   "execution_count": 21,
   "metadata": {},
   "outputs": [],
   "source": [
    "df['Подъезды'] = df['Подъезды'].apply(lambda w: w if w is np.nan else int(w))\n",
    "df.loc[df['Подъезды'] > 30, 'Подъезды'] = np.nan"
   ]
  },
  {
   "cell_type": "code",
   "execution_count": 22,
   "metadata": {},
   "outputs": [],
   "source": [
    "def sq(w):\n",
    "    if w is np.nan:\n",
    "        return np.nan\n",
    "    else:\n",
    "        y = re.sub(',', '.', w)[:-2]\n",
    "        y = re.sub(' ', '', y)\n",
    "        return float(y)\n",
    "    \n",
    "df['Жилая'] = df['Жилая'].apply(sq)\n",
    "df['Кухня'] = df['Кухня'].apply(sq)\n",
    "df['Общая'] = df['Общая'].apply(sq)"
   ]
  },
  {
   "cell_type": "code",
   "execution_count": 23,
   "metadata": {},
   "outputs": [],
   "source": [
    "# Дз: фабрика функций, mean max median, len \n",
    " \n",
    "# def sq_rooms():\n",
    "#     def f(w):\n",
    "#         if w is np.nan:\n",
    "#             return np.nan\n",
    "#         else:\n",
    "#             y = re.sub(',', '.', w)[:-2]\n",
    "#             y = re.sub('[ \\(\\)]', '', y)\n",
    "#             y = [float(item) for item in re.split('[-+/]', y)]\n",
    "#             return np.mean(y)\n",
    "#     return f\n",
    "\n",
    "# f = sq_rooms()\n",
    "# df['Площадь комнат'].apply(f)"
   ]
  },
  {
   "cell_type": "code",
   "execution_count": 24,
   "metadata": {},
   "outputs": [],
   "source": [
    "df['Этажность'] = df['Этаж'].apply(lambda w: int(w.split(' из ')[1]))\n",
    "df['первый_этаж'] = df['Этаж'].apply(lambda w: 1*(w.split(' из ')[0] == '1'))\n",
    "df['последний_этаж'] = df['Этаж'].apply(lambda w: 1*(w.split(' из ')[0] == w.split(' из ')[1]))\n",
    "df['Этаж'] = df['Этаж'].apply(lambda w: int(w.split(' из ')[0]))"
   ]
  },
  {
   "cell_type": "code",
   "execution_count": 25,
   "metadata": {},
   "outputs": [],
   "source": [
    "# Дз: распарсить переменную со станциями и временем (пешком/на машине) на мног переменных \n",
    "#\n",
    "# - минимально пешком/на машине\n",
    "# - максимално \n",
    "# - количество станций метро рядом\n",
    "# - название ближайшей станции если пешком \n",
    "# - название ближайшей станции если на машине \n",
    "# (если две с одинаковым берем любую) "
   ]
  },
  {
   "cell_type": "code",
   "execution_count": 26,
   "metadata": {},
   "outputs": [],
   "source": [
    "def min_walk_metro(l):\n",
    "    new = []\n",
    "    for j in l:\n",
    "        if 'пешком' in j:\n",
    "            new.append(int(re.findall('(\\d*) мин. пешком',j)[0]))\n",
    "    if len(new) != 0:\n",
    "        return min(new)  \n",
    "    else:\n",
    "        return np.nan\n",
    "    \n",
    "def min_transport_metro(l):\n",
    "    new = []\n",
    "    for j in l:\n",
    "        if 'транспорте' in j:\n",
    "            new.append(int(re.findall('(\\d*) мин. на транспорте',j)[0]))\n",
    "    if len(new) != 0:\n",
    "        return min(new)  \n",
    "    else:\n",
    "        return np.nan\n",
    "    \n",
    "df['metro_walk_min'] = df['метро'].apply(lambda x: min_walk_metro(x))\n",
    "df['metro_auto_min'] = df['метро'].apply(lambda x: min_transport_metro(x))\n"
   ]
  },
  {
   "cell_type": "code",
   "execution_count": 27,
   "metadata": {},
   "outputs": [],
   "source": [
    "def stations(mod):\n",
    "    def find_stations(l, mod=mod):\n",
    "        l = [re.findall(\"([ А-Яа-я0-9-.]*) ⋅[ А-Яа-я0-9.]* \" + mod, item) for item in l]\n",
    "        s = [ ]\n",
    "        for item in l:\n",
    "            if len(item) == 0:\n",
    "                continue\n",
    "            else:\n",
    "                s.append(item[0].split(\"откроется\")[0])\n",
    "        return ','.join(s)\n",
    "    return find_stations\n",
    "\n",
    "find_walk_st = stations(\"пешком\")\n",
    "find_auto_st = stations(\"на транспорте\")\n",
    "\n",
    "df['stations_walk'] = df['метро'].apply(find_walk_st)\n",
    "df['stations_auto'] = df['метро'].apply(find_auto_st)"
   ]
  },
  {
   "cell_type": "markdown",
   "metadata": {},
   "source": [
    "4. Время(надо доработать)"
   ]
  },
  {
   "cell_type": "code",
   "execution_count": 28,
   "metadata": {},
   "outputs": [],
   "source": [
    "df['возраст'] = df['Год постройки'].apply(lambda w: w if w is np.nan else int(w))\n",
    "df.loc[df['возраст'] < 1900, 'возраст'] = np.nan\n",
    "df['возраст'] =  2020 - df['возраст']"
   ]
  },
  {
   "cell_type": "code",
   "execution_count": 29,
   "metadata": {},
   "outputs": [],
   "source": [
    "df['год сдачи'] = df['Срок сдачи'].apply(lambda w: w if w is np.nan else w.split(' ')[-1])\n",
    "df['квартал'] = df['Срок сдачи'].apply(lambda w: w if w is np.nan else int(w.split(' ')[0]))\n",
    "\n",
    "df.loc[df['год сдачи'] < '2020', 'квартал'] = np.nan\n",
    "df.loc[df['год сдачи'] < '2020', 'год сдачи'] = np.nan\n",
    "df.loc[df['квартал'] >= 5, 'квартал'] = 1\n",
    "\n",
    "df['квартал'].replace({1:'01', 2: '04', 3: '07', 4: '10'}, inplace=True)\n",
    "df['срок сдачи'] = df['год сдачи'].astype(str) + '-' + df['квартал']"
   ]
  },
  {
   "cell_type": "code",
   "execution_count": 30,
   "metadata": {},
   "outputs": [],
   "source": [
    "from datetime import datetime  # пакет для работы с датами"
   ]
  },
  {
   "cell_type": "code",
   "execution_count": 31,
   "metadata": {},
   "outputs": [
    {
     "data": {
      "text/plain": [
       "datetime.datetime(2021, 4, 1, 0, 0)"
      ]
     },
     "execution_count": 31,
     "metadata": {},
     "output_type": "execute_result"
    }
   ],
   "source": [
    "x = '2021-04'\n",
    "y = datetime.strptime(x, \"%Y-%m\")\n",
    "y"
   ]
  },
  {
   "cell_type": "code",
   "execution_count": 32,
   "metadata": {},
   "outputs": [
    {
     "data": {
      "text/plain": [
       "15"
      ]
     },
     "execution_count": 32,
     "metadata": {},
     "output_type": "execute_result"
    }
   ],
   "source": [
    "y1 = datetime.strptime('2020-01', \"%Y-%m\")\n",
    "(y - y1).days // 30"
   ]
  },
  {
   "cell_type": "code",
   "execution_count": 33,
   "metadata": {},
   "outputs": [],
   "source": [
    "def get_time_delta(x):\n",
    "    if x is np.nan:\n",
    "        return x\n",
    "    else:\n",
    "        y = datetime.strptime(x, \"%Y-%m\")\n",
    "        y1 = datetime.strptime('2020-01', \"%Y-%m\")\n",
    "        return (y - y1).days // 30\n",
    "    \n",
    "df['срок сдачи'] = df['срок сдачи'].apply(get_time_delta)"
   ]
  },
  {
   "cell_type": "markdown",
   "metadata": {},
   "source": [
    "# Финалочка "
   ]
  },
  {
   "cell_type": "code",
   "execution_count": 34,
   "metadata": {},
   "outputs": [
    {
     "data": {
      "text/plain": [
       "(35109, 47)"
      ]
     },
     "execution_count": 34,
     "metadata": {},
     "output_type": "execute_result"
    }
   ],
   "source": [
    "df.shape"
   ]
  },
  {
   "cell_type": "code",
   "execution_count": 35,
   "metadata": {},
   "outputs": [
    {
     "data": {
      "text/plain": [
       "Index(['Тип жилья', 'Площадь комнат', 'Ремонт', 'Вид из окон', 'Год постройки',\n",
       "       'Тип дома', 'Тип перекрытий', 'Подъезды', 'Отопление', 'Парковка',\n",
       "       'Мусоропровод', 'цена', 'описание', 'Общая', 'Жилая', 'Кухня', 'Этаж',\n",
       "       'Построен', 'адрес', 'метро', 'тайтл', 'lat', 'long', 'href',\n",
       "       'Высота потолков', 'Планировка', 'Газоснабжение', 'Отделка',\n",
       "       'Срок сдачи', 'балконы', 'лоджии', 'санузлы_раздельные',\n",
       "       'санузлы_совместные', 'лифты_пас', 'лифты_гр', 'Тип_квартиры',\n",
       "       'Этажность', 'первый_этаж', 'последний_этаж', 'metro_walk_min',\n",
       "       'metro_auto_min', 'stations_walk', 'stations_auto', 'возраст',\n",
       "       'год сдачи', 'квартал', 'срок сдачи'],\n",
       "      dtype='object')"
      ]
     },
     "execution_count": 35,
     "metadata": {},
     "output_type": "execute_result"
    }
   ],
   "source": [
    "df.columns"
   ]
  },
  {
   "cell_type": "code",
   "execution_count": 36,
   "metadata": {},
   "outputs": [
    {
     "data": {
      "text/plain": [
       "(35109, 47)"
      ]
     },
     "execution_count": 36,
     "metadata": {},
     "output_type": "execute_result"
    }
   ],
   "source": [
    "df.shape"
   ]
  },
  {
   "cell_type": "code",
   "execution_count": null,
   "metadata": {},
   "outputs": [],
   "source": []
  },
  {
   "cell_type": "code",
   "execution_count": 37,
   "metadata": {},
   "outputs": [],
   "source": [
    "target = ['price']\n",
    "\n",
    "text_data = ['адрес','метро', 'тайтл', 'stations_auto',\n",
    "            'stations_walk']\n",
    "\n",
    "#Обработать\n",
    "strange_val = ['Площадь комнат','lat', 'long','href'\n",
    "               'срок сдачи']\n",
    "\n",
    "time_val = ['Построен','Год постройки', 'Срок сдачи', 'год сдачи',\n",
    "           'квартал']\n",
    "\n",
    "cont_var = ['Общая', 'Жилая', 'Кухня','metro_walk_min','metro_auto_min'\n",
    "           'возраст', 'Этажность','Этаж']\n",
    "\n",
    "var_cat = ['Тип жилья', 'Ремонт',\n",
    "'Вид из окон', 'Тип дома', 'Тип перекрытий',\n",
    "'Отопление', 'Парковка', 'Мусоропровод',\n",
    "'Высота потолков', 'Планировка', 'Газоснабжение',\n",
    "'Отделка', 'балконы',   'лоджии',\n",
    "'санузлы_раздельные', 'санузлы_совместные', 'лифты_пас',\n",
    "'лифты_гр', 'Тип_квартиры', 'первый_этаж', 'последний_этаж', \n",
    "'Подъезды'] "
   ]
  },
  {
   "cell_type": "code",
   "execution_count": 38,
   "metadata": {},
   "outputs": [],
   "source": [
    "tradeoff = 0.02*df.shape[0]\n",
    "def freq_less_trade(x):\n",
    "    freq = df[x].value_counts()\n",
    "    bad_value = freq[freq < tradeoff].index\n",
    "    df[x] = df[x].apply(lambda w: 'другое' if w in bad_value else w)\n",
    "\n",
    "for x in var_cat:\n",
    "    freq_less_trade(x)"
   ]
  },
  {
   "cell_type": "code",
   "execution_count": 39,
   "metadata": {},
   "outputs": [],
   "source": [
    "df.to_csv('cian_data.csv', sep='\\t', index=None)"
   ]
  },
  {
   "cell_type": "code",
   "execution_count": null,
   "metadata": {},
   "outputs": [],
   "source": []
  }
 ],
 "metadata": {
  "kernelspec": {
   "display_name": "Python 3",
   "language": "python",
   "name": "python3"
  },
  "language_info": {
   "codemirror_mode": {
    "name": "ipython",
    "version": 3
   },
   "file_extension": ".py",
   "mimetype": "text/x-python",
   "name": "python",
   "nbconvert_exporter": "python",
   "pygments_lexer": "ipython3",
   "version": "3.7.4"
  }
 },
 "nbformat": 4,
 "nbformat_minor": 2
}
