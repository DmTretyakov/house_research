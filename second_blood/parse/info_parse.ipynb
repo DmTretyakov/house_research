{
 "cells": [
  {
   "cell_type": "code",
   "execution_count": 1,
   "metadata": {},
   "outputs": [],
   "source": [
    "import pickle\n",
    "import collections\n",
    "import os"
   ]
  },
  {
   "cell_type": "code",
   "execution_count": 2,
   "metadata": {},
   "outputs": [],
   "source": [
    "files = os.listdir('hrefs')"
   ]
  },
  {
   "cell_type": "code",
   "execution_count": 3,
   "metadata": {},
   "outputs": [
    {
     "name": "stdout",
     "output_type": "stream",
     "text": [
      "69579 55842\n"
     ]
    }
   ],
   "source": [
    "hrefs_real = [ ]\n",
    "\n",
    "for file in files:\n",
    "    with open('hrefs/' + file, 'rb') as f:\n",
    "        data_new = pickle.load(f)\n",
    "    \n",
    "    if str(type(data_new)) == \"<class 'collections.defaultdict'>\":\n",
    "        hrefs = []\n",
    "        for k,v in data_new.items():\n",
    "            hrefs.extend(v) \n",
    "        hrefs_real += list(set(hrefs))\n",
    "    else:\n",
    "        hrefs_real += data_new # Файлы Димы\n",
    "        \n",
    "print(len(hrefs_real), len(set(hrefs_real)))\n",
    "\n",
    "hrefs_real = list(set(hrefs_real))"
   ]
  },
  {
   "cell_type": "code",
   "execution_count": 4,
   "metadata": {},
   "outputs": [],
   "source": [
    "import requests\n",
    "from bs4 import BeautifulSoup\n",
    "import re\n",
    "\n",
    "import cian_info as cian"
   ]
  },
  {
   "cell_type": "code",
   "execution_count": 5,
   "metadata": {},
   "outputs": [
    {
     "data": {
      "text/plain": [
       "'https://www.cian.ru/sale/flat/234185683/'"
      ]
     },
     "execution_count": 5,
     "metadata": {},
     "output_type": "execute_result"
    }
   ],
   "source": [
    "url = hrefs_real[0]\n",
    "url"
   ]
  },
  {
   "cell_type": "markdown",
   "metadata": {},
   "source": [
    "Объединяем всё в одну функцию! "
   ]
  },
  {
   "cell_type": "code",
   "execution_count": 6,
   "metadata": {},
   "outputs": [],
   "source": [
    "def infa_download(soup):\n",
    "    infa_dict = {}\n",
    "    infa_dict.update(cian.get_general_information(soup))\n",
    "    infa_dict.update(cian.get_about(soup))\n",
    "    infa_dict.update(cian.get_price(soup))\n",
    "    infa_dict.update(cian.get_description(soup))\n",
    "    infa_dict.update(cian.to_info(soup))\n",
    "    infa_dict.update(cian.get_address(soup))\n",
    "    infa_dict.update(cian.get_metro(soup))\n",
    "    infa_dict.update(cian.get_title(soup))\n",
    "    infa_dict.update(cian.get_coord(soup))\n",
    "    return infa_dict"
   ]
  },
  {
   "cell_type": "code",
   "execution_count": 7,
   "metadata": {},
   "outputs": [],
   "source": [
    "from tqdm import tqdm"
   ]
  },
  {
   "cell_type": "code",
   "execution_count": 8,
   "metadata": {},
   "outputs": [
    {
     "name": "stderr",
     "output_type": "stream",
     "text": [
      "  0%|                                                                             | 11/10000 [00:17<4:13:49,  1.52s/it]"
     ]
    },
    {
     "name": "stdout",
     "output_type": "stream",
     "text": [
      "объявление снято\n"
     ]
    },
    {
     "name": "stderr",
     "output_type": "stream",
     "text": [
      "  0%|                                                                             | 13/10000 [00:20<4:09:43,  1.50s/it]"
     ]
    },
    {
     "ename": "AttributeError",
     "evalue": "'NoneType' object has no attribute 'find_all'",
     "output_type": "error",
     "traceback": [
      "\u001b[1;31m---------------------------------------------------------------------------\u001b[0m",
      "\u001b[1;31mAttributeError\u001b[0m                            Traceback (most recent call last)",
      "\u001b[1;32m<ipython-input-8-230ff0703df6>\u001b[0m in \u001b[0;36m<module>\u001b[1;34m\u001b[0m\n\u001b[0;32m     16\u001b[0m         \u001b[1;32mcontinue\u001b[0m\u001b[1;33m\u001b[0m\u001b[1;33m\u001b[0m\u001b[0m\n\u001b[0;32m     17\u001b[0m \u001b[1;33m\u001b[0m\u001b[0m\n\u001b[1;32m---> 18\u001b[1;33m     \u001b[0mcur_infa\u001b[0m \u001b[1;33m=\u001b[0m \u001b[0minfa_download\u001b[0m\u001b[1;33m(\u001b[0m\u001b[0msoup\u001b[0m\u001b[1;33m)\u001b[0m\u001b[1;33m\u001b[0m\u001b[1;33m\u001b[0m\u001b[0m\n\u001b[0m\u001b[0;32m     19\u001b[0m     \u001b[0mall_infa\u001b[0m\u001b[1;33m.\u001b[0m\u001b[0mappend\u001b[0m\u001b[1;33m(\u001b[0m\u001b[0mcur_infa\u001b[0m\u001b[1;33m)\u001b[0m\u001b[1;33m\u001b[0m\u001b[1;33m\u001b[0m\u001b[0m\n",
      "\u001b[1;32m<ipython-input-6-07e120ab775e>\u001b[0m in \u001b[0;36minfa_download\u001b[1;34m(soup)\u001b[0m\n\u001b[0;32m      2\u001b[0m     \u001b[0minfa_dict\u001b[0m \u001b[1;33m=\u001b[0m \u001b[1;33m{\u001b[0m\u001b[1;33m}\u001b[0m\u001b[1;33m\u001b[0m\u001b[1;33m\u001b[0m\u001b[0m\n\u001b[0;32m      3\u001b[0m     \u001b[0minfa_dict\u001b[0m\u001b[1;33m.\u001b[0m\u001b[0mupdate\u001b[0m\u001b[1;33m(\u001b[0m\u001b[0mcian\u001b[0m\u001b[1;33m.\u001b[0m\u001b[0mget_general_information\u001b[0m\u001b[1;33m(\u001b[0m\u001b[0msoup\u001b[0m\u001b[1;33m)\u001b[0m\u001b[1;33m)\u001b[0m\u001b[1;33m\u001b[0m\u001b[1;33m\u001b[0m\u001b[0m\n\u001b[1;32m----> 4\u001b[1;33m     \u001b[0minfa_dict\u001b[0m\u001b[1;33m.\u001b[0m\u001b[0mupdate\u001b[0m\u001b[1;33m(\u001b[0m\u001b[0mcian\u001b[0m\u001b[1;33m.\u001b[0m\u001b[0mget_about\u001b[0m\u001b[1;33m(\u001b[0m\u001b[0msoup\u001b[0m\u001b[1;33m)\u001b[0m\u001b[1;33m)\u001b[0m\u001b[1;33m\u001b[0m\u001b[1;33m\u001b[0m\u001b[0m\n\u001b[0m\u001b[0;32m      5\u001b[0m     \u001b[0minfa_dict\u001b[0m\u001b[1;33m.\u001b[0m\u001b[0mupdate\u001b[0m\u001b[1;33m(\u001b[0m\u001b[0mcian\u001b[0m\u001b[1;33m.\u001b[0m\u001b[0mget_price\u001b[0m\u001b[1;33m(\u001b[0m\u001b[0msoup\u001b[0m\u001b[1;33m)\u001b[0m\u001b[1;33m)\u001b[0m\u001b[1;33m\u001b[0m\u001b[1;33m\u001b[0m\u001b[0m\n\u001b[0;32m      6\u001b[0m     \u001b[0minfa_dict\u001b[0m\u001b[1;33m.\u001b[0m\u001b[0mupdate\u001b[0m\u001b[1;33m(\u001b[0m\u001b[0mcian\u001b[0m\u001b[1;33m.\u001b[0m\u001b[0mget_description\u001b[0m\u001b[1;33m(\u001b[0m\u001b[0msoup\u001b[0m\u001b[1;33m)\u001b[0m\u001b[1;33m)\u001b[0m\u001b[1;33m\u001b[0m\u001b[1;33m\u001b[0m\u001b[0m\n",
      "\u001b[1;32m~\\jupyter\\ЦИАН\\Парсеры\\выгрузка_начало_июля\\cian_info.py\u001b[0m in \u001b[0;36mget_about\u001b[1;34m(soup)\u001b[0m\n\u001b[0;32m     35\u001b[0m     '''\n\u001b[0;32m     36\u001b[0m     \u001b[0minfo\u001b[0m \u001b[1;33m=\u001b[0m \u001b[0msoup\u001b[0m\u001b[1;33m.\u001b[0m\u001b[0mfind\u001b[0m\u001b[1;33m(\u001b[0m\u001b[1;34m'div'\u001b[0m\u001b[1;33m,\u001b[0m \u001b[1;33m{\u001b[0m\u001b[1;34m'class'\u001b[0m\u001b[1;33m:\u001b[0m\u001b[1;34m'a10a3f92e9--column--2oGBs'\u001b[0m\u001b[1;33m}\u001b[0m\u001b[1;33m)\u001b[0m\u001b[1;33m\u001b[0m\u001b[1;33m\u001b[0m\u001b[0m\n\u001b[1;32m---> 37\u001b[1;33m     \u001b[0mx\u001b[0m \u001b[1;33m=\u001b[0m \u001b[0minfo\u001b[0m\u001b[1;33m.\u001b[0m\u001b[0mfind_all\u001b[0m\u001b[1;33m(\u001b[0m\u001b[1;34m'div'\u001b[0m\u001b[1;33m)\u001b[0m\u001b[1;33m\u001b[0m\u001b[1;33m\u001b[0m\u001b[0m\n\u001b[0m\u001b[0;32m     38\u001b[0m     \u001b[0md\u001b[0m \u001b[1;33m=\u001b[0m \u001b[1;33m{\u001b[0m\u001b[1;33m}\u001b[0m\u001b[1;33m\u001b[0m\u001b[1;33m\u001b[0m\u001b[0m\n\u001b[0;32m     39\u001b[0m     \u001b[1;32mfor\u001b[0m \u001b[0mi\u001b[0m \u001b[1;32min\u001b[0m \u001b[0mrange\u001b[0m\u001b[1;33m(\u001b[0m\u001b[0mlen\u001b[0m\u001b[1;33m(\u001b[0m\u001b[0mx\u001b[0m\u001b[1;33m)\u001b[0m\u001b[1;33m//\u001b[0m\u001b[1;36m3\u001b[0m\u001b[1;33m)\u001b[0m\u001b[1;33m:\u001b[0m\u001b[1;33m\u001b[0m\u001b[1;33m\u001b[0m\u001b[0m\n",
      "\u001b[1;31mAttributeError\u001b[0m: 'NoneType' object has no attribute 'find_all'"
     ]
    }
   ],
   "source": [
    "import time\n",
    "from requests.exceptions import ConnectionError\n",
    "\n",
    "all_infa = [ ]\n",
    "\n",
    "for url in tqdm(hrefs_real[:10000]):\n",
    "    try:\n",
    "        time.sleep(1)\n",
    "        soup = cian.get_soup(url)\n",
    "    except ConnectionError:\n",
    "        time.sleep(10)\n",
    "        soup = cian.get_soup(url)\n",
    "    \n",
    "    if soup.find(\"div\", {\"data-name\": \"OfferUnpublished\"}):\n",
    "        print('объявление снято')\n",
    "        continue\n",
    "        \n",
    "    cur_infa = infa_download(soup)\n",
    "    all_infa.append(cur_infa)"
   ]
  },
  {
   "cell_type": "code",
   "execution_count": 11,
   "metadata": {},
   "outputs": [
    {
     "data": {
      "text/plain": [
       "27"
      ]
     },
     "execution_count": 11,
     "metadata": {},
     "output_type": "execute_result"
    }
   ],
   "source": [
    "hrefs_real.index(url)"
   ]
  },
  {
   "cell_type": "code",
   "execution_count": null,
   "metadata": {},
   "outputs": [],
   "source": [
    "len(all_infa)"
   ]
  },
  {
   "cell_type": "code",
   "execution_count": 12,
   "metadata": {},
   "outputs": [
    {
     "data": {
      "text/html": [
       "<div>\n",
       "<style scoped>\n",
       "    .dataframe tbody tr th:only-of-type {\n",
       "        vertical-align: middle;\n",
       "    }\n",
       "\n",
       "    .dataframe tbody tr th {\n",
       "        vertical-align: top;\n",
       "    }\n",
       "\n",
       "    .dataframe thead th {\n",
       "        text-align: right;\n",
       "    }\n",
       "</style>\n",
       "<table border=\"1\" class=\"dataframe\">\n",
       "  <thead>\n",
       "    <tr style=\"text-align: right;\">\n",
       "      <th></th>\n",
       "      <th>lat</th>\n",
       "      <th>long</th>\n",
       "      <th>Аварийность</th>\n",
       "      <th>Балкон/лоджия</th>\n",
       "      <th>Вид из окон</th>\n",
       "      <th>Высота потолков</th>\n",
       "      <th>Газоснабжение</th>\n",
       "      <th>Год постройки</th>\n",
       "      <th>Жилая</th>\n",
       "      <th>Кухня</th>\n",
       "      <th>...</th>\n",
       "      <th>Строительная серия</th>\n",
       "      <th>Тип дома</th>\n",
       "      <th>Тип жилья</th>\n",
       "      <th>Тип перекрытий</th>\n",
       "      <th>Этаж</th>\n",
       "      <th>адрес</th>\n",
       "      <th>метро</th>\n",
       "      <th>описание</th>\n",
       "      <th>тайтл</th>\n",
       "      <th>цена</th>\n",
       "    </tr>\n",
       "  </thead>\n",
       "  <tbody>\n",
       "    <tr>\n",
       "      <th>0</th>\n",
       "      <td>55.774745</td>\n",
       "      <td>37.548609</td>\n",
       "      <td>Нет</td>\n",
       "      <td>1 балкон</td>\n",
       "      <td>NaN</td>\n",
       "      <td>3 м</td>\n",
       "      <td>NaN</td>\n",
       "      <td>2010</td>\n",
       "      <td>NaN</td>\n",
       "      <td>NaN</td>\n",
       "      <td>...</td>\n",
       "      <td>NaN</td>\n",
       "      <td>Монолитный</td>\n",
       "      <td>Вторичка</td>\n",
       "      <td>Железобетонные</td>\n",
       "      <td>13 из 37</td>\n",
       "      <td>Москва, САО, р-н Хорошевский, Хорошевское ш., ...</td>\n",
       "      <td>[Беговая ⋅  &lt;1 мин. на транспорте, Беговая ⋅  ...</td>\n",
       "      <td>Просторная, светлая, уютная 3-х комнатная квар...</td>\n",
       "      <td>3-комн. квартира, 87 м²</td>\n",
       "      <td>23500000</td>\n",
       "    </tr>\n",
       "    <tr>\n",
       "      <th>1</th>\n",
       "      <td>55.771342</td>\n",
       "      <td>37.61865</td>\n",
       "      <td>Нет</td>\n",
       "      <td>1 лоджия</td>\n",
       "      <td>NaN</td>\n",
       "      <td>NaN</td>\n",
       "      <td>NaN</td>\n",
       "      <td>2007</td>\n",
       "      <td>200 м²</td>\n",
       "      <td>20 м²</td>\n",
       "      <td>...</td>\n",
       "      <td>NaN</td>\n",
       "      <td>NaN</td>\n",
       "      <td>Вторичка</td>\n",
       "      <td>NaN</td>\n",
       "      <td>3 из 9</td>\n",
       "      <td>Москва, ЦАО, р-н Тверской, Цветной бул., 15к2</td>\n",
       "      <td>[Цветной бульвар]</td>\n",
       "      <td>Прекрасная квартира для большой семьи с хороши...</td>\n",
       "      <td>5-комн. квартира, 249,1 м²</td>\n",
       "      <td>150000000</td>\n",
       "    </tr>\n",
       "    <tr>\n",
       "      <th>2</th>\n",
       "      <td>55.727724</td>\n",
       "      <td>37.572288</td>\n",
       "      <td>NaN</td>\n",
       "      <td>NaN</td>\n",
       "      <td>NaN</td>\n",
       "      <td>NaN</td>\n",
       "      <td>NaN</td>\n",
       "      <td>NaN</td>\n",
       "      <td>NaN</td>\n",
       "      <td>NaN</td>\n",
       "      <td>...</td>\n",
       "      <td>NaN</td>\n",
       "      <td>NaN</td>\n",
       "      <td>Вторичка</td>\n",
       "      <td>NaN</td>\n",
       "      <td>5 из 13</td>\n",
       "      <td>Москва, ЦАО, р-н Хамовники, ул. Усачева, 11Б</td>\n",
       "      <td>[Спортивная ⋅  10 мин. пешком, Фрунзенская ⋅  ...</td>\n",
       "      <td>ЖК \"Садовые кварталы\". К продаже предлагается ...</td>\n",
       "      <td>3-комн. квартира, 149,5 м²</td>\n",
       "      <td>84000000</td>\n",
       "    </tr>\n",
       "    <tr>\n",
       "      <th>3</th>\n",
       "      <td>55.754618</td>\n",
       "      <td>37.524058</td>\n",
       "      <td>NaN</td>\n",
       "      <td>NaN</td>\n",
       "      <td>На улицу и двор</td>\n",
       "      <td>3,1 м</td>\n",
       "      <td>NaN</td>\n",
       "      <td>NaN</td>\n",
       "      <td>15,5 м²</td>\n",
       "      <td>12,6 м²</td>\n",
       "      <td>...</td>\n",
       "      <td>NaN</td>\n",
       "      <td>NaN</td>\n",
       "      <td>Вторичка</td>\n",
       "      <td>NaN</td>\n",
       "      <td>1 из 37</td>\n",
       "      <td>Москва, ЦАО, р-н Пресненский, Шмитовский проез...</td>\n",
       "      <td>[Шелепиха ⋅  5 мин. пешком, Деловой центр ⋅  4...</td>\n",
       "      <td>Город в городе! Вторая очередь строительства. ...</td>\n",
       "      <td>1-комн. квартира, 41,18 м²</td>\n",
       "      <td>11136240</td>\n",
       "    </tr>\n",
       "    <tr>\n",
       "      <th>4</th>\n",
       "      <td>55.715718</td>\n",
       "      <td>37.617905</td>\n",
       "      <td>Нет</td>\n",
       "      <td>NaN</td>\n",
       "      <td>На улицу и двор</td>\n",
       "      <td>NaN</td>\n",
       "      <td>Центральное</td>\n",
       "      <td>1929</td>\n",
       "      <td>52,6 м²</td>\n",
       "      <td>6,8 м²</td>\n",
       "      <td>...</td>\n",
       "      <td>NaN</td>\n",
       "      <td>NaN</td>\n",
       "      <td>Вторичка</td>\n",
       "      <td>NaN</td>\n",
       "      <td>1 из 5</td>\n",
       "      <td>Москва, ЮАО, р-н Даниловский, Городская ул., 5</td>\n",
       "      <td>[Шаболовская ⋅  12 мин. пешком, Тульская ⋅  13...</td>\n",
       "      <td>Продается теплая, уютная трехкомнатная квартир...</td>\n",
       "      <td>3-комн. квартира, 75 м²</td>\n",
       "      <td>13000000</td>\n",
       "    </tr>\n",
       "  </tbody>\n",
       "</table>\n",
       "<p>5 rows × 33 columns</p>\n",
       "</div>"
      ],
      "text/plain": [
       "         lat       long Аварийность Балкон/лоджия      Вид из окон  \\\n",
       "0  55.774745  37.548609         Нет      1 балкон              NaN   \n",
       "1  55.771342   37.61865         Нет      1 лоджия              NaN   \n",
       "2  55.727724  37.572288         NaN           NaN              NaN   \n",
       "3  55.754618  37.524058         NaN           NaN  На улицу и двор   \n",
       "4  55.715718  37.617905         Нет           NaN  На улицу и двор   \n",
       "\n",
       "  Высота потолков Газоснабжение Год постройки    Жилая    Кухня  ...  \\\n",
       "0             3 м           NaN          2010      NaN      NaN  ...   \n",
       "1             NaN           NaN          2007   200 м²    20 м²  ...   \n",
       "2             NaN           NaN           NaN      NaN      NaN  ...   \n",
       "3           3,1 м           NaN           NaN  15,5 м²  12,6 м²  ...   \n",
       "4             NaN   Центральное          1929  52,6 м²   6,8 м²  ...   \n",
       "\n",
       "  Строительная серия    Тип дома Тип жилья  Тип перекрытий      Этаж  \\\n",
       "0                NaN  Монолитный  Вторичка  Железобетонные  13 из 37   \n",
       "1                NaN         NaN  Вторичка             NaN    3 из 9   \n",
       "2                NaN         NaN  Вторичка             NaN   5 из 13   \n",
       "3                NaN         NaN  Вторичка             NaN   1 из 37   \n",
       "4                NaN         NaN  Вторичка             NaN    1 из 5   \n",
       "\n",
       "                                               адрес  \\\n",
       "0  Москва, САО, р-н Хорошевский, Хорошевское ш., ...   \n",
       "1      Москва, ЦАО, р-н Тверской, Цветной бул., 15к2   \n",
       "2       Москва, ЦАО, р-н Хамовники, ул. Усачева, 11Б   \n",
       "3  Москва, ЦАО, р-н Пресненский, Шмитовский проез...   \n",
       "4     Москва, ЮАО, р-н Даниловский, Городская ул., 5   \n",
       "\n",
       "                                               метро  \\\n",
       "0  [Беговая ⋅  <1 мин. на транспорте, Беговая ⋅  ...   \n",
       "1                                  [Цветной бульвар]   \n",
       "2  [Спортивная ⋅  10 мин. пешком, Фрунзенская ⋅  ...   \n",
       "3  [Шелепиха ⋅  5 мин. пешком, Деловой центр ⋅  4...   \n",
       "4  [Шаболовская ⋅  12 мин. пешком, Тульская ⋅  13...   \n",
       "\n",
       "                                            описание  \\\n",
       "0  Просторная, светлая, уютная 3-х комнатная квар...   \n",
       "1  Прекрасная квартира для большой семьи с хороши...   \n",
       "2  ЖК \"Садовые кварталы\". К продаже предлагается ...   \n",
       "3  Город в городе! Вторая очередь строительства. ...   \n",
       "4  Продается теплая, уютная трехкомнатная квартир...   \n",
       "\n",
       "                        тайтл       цена  \n",
       "0     3-комн. квартира, 87 м²   23500000  \n",
       "1  5-комн. квартира, 249,1 м²  150000000  \n",
       "2  3-комн. квартира, 149,5 м²   84000000  \n",
       "3  1-комн. квартира, 41,18 м²   11136240  \n",
       "4     3-комн. квартира, 75 м²   13000000  \n",
       "\n",
       "[5 rows x 33 columns]"
      ]
     },
     "execution_count": 12,
     "metadata": {},
     "output_type": "execute_result"
    }
   ],
   "source": [
    "import pandas as pd\n",
    "df = pd.DataFrame(all_infa)\n",
    "df.head()"
   ]
  },
  {
   "cell_type": "code",
   "execution_count": 13,
   "metadata": {},
   "outputs": [
    {
     "data": {
      "text/plain": [
       "(27, 33)"
      ]
     },
     "execution_count": 13,
     "metadata": {},
     "output_type": "execute_result"
    }
   ],
   "source": [
    "df.shape"
   ]
  },
  {
   "cell_type": "code",
   "execution_count": 14,
   "metadata": {},
   "outputs": [
    {
     "data": {
      "text/plain": [
       "lat                    0\n",
       "long                   0\n",
       "Аварийность            3\n",
       "Балкон/лоджия          9\n",
       "Вид из окон            7\n",
       "Высота потолков       15\n",
       "Газоснабжение         20\n",
       "Год постройки          3\n",
       "Жилая                  4\n",
       "Кухня                  5\n",
       "Лифты                  0\n",
       "Мусоропровод          14\n",
       "Общая                  0\n",
       "Отделка               26\n",
       "Отопление              5\n",
       "Парковка              19\n",
       "Планировка            16\n",
       "Площадь комнат         9\n",
       "Подъезды               4\n",
       "Построен              13\n",
       "Ремонт                 3\n",
       "Санузел                1\n",
       "Срок сдачи            25\n",
       "Строительная серия    24\n",
       "Тип дома               7\n",
       "Тип жилья              0\n",
       "Тип перекрытий         6\n",
       "Этаж                   0\n",
       "адрес                  0\n",
       "метро                  0\n",
       "описание               0\n",
       "тайтл                  0\n",
       "цена                   0\n",
       "dtype: int64"
      ]
     },
     "execution_count": 14,
     "metadata": {},
     "output_type": "execute_result"
    }
   ],
   "source": [
    "df.isnull().sum()"
   ]
  },
  {
   "cell_type": "code",
   "execution_count": null,
   "metadata": {},
   "outputs": [],
   "source": []
  },
  {
   "cell_type": "code",
   "execution_count": null,
   "metadata": {},
   "outputs": [],
   "source": []
  },
  {
   "cell_type": "code",
   "execution_count": null,
   "metadata": {},
   "outputs": [],
   "source": []
  },
  {
   "cell_type": "code",
   "execution_count": null,
   "metadata": {},
   "outputs": [],
   "source": []
  },
  {
   "cell_type": "code",
   "execution_count": null,
   "metadata": {},
   "outputs": [],
   "source": []
  }
 ],
 "metadata": {
  "kernelspec": {
   "display_name": "Python 3",
   "language": "python",
   "name": "python3"
  },
  "language_info": {
   "codemirror_mode": {
    "name": "ipython",
    "version": 3
   },
   "file_extension": ".py",
   "mimetype": "text/x-python",
   "name": "python",
   "nbconvert_exporter": "python",
   "pygments_lexer": "ipython3",
   "version": "3.7.4"
  }
 },
 "nbformat": 4,
 "nbformat_minor": 2
}
